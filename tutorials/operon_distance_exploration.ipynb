{
 "cells": [
  {
   "cell_type": "markdown",
   "metadata": {},
   "source": [
    "# Operon analysis\n",
    "We don't yet have an exhaustive annotation of all operons in _M. buryatense_ but there are a small handful of known operons (curated by Mary Lidstrom, saved in `/data/operon_ncbi_ids,txt`). We examined the spacing between genes within this known set and used this to help us decide how to set the `min_dist` parameter when estimating operons in our main framework. "
   ]
  },
  {
   "cell_type": "markdown",
   "metadata": {},
   "source": [
    "## Basic feature file loading/parsing"
   ]
  },
  {
   "cell_type": "code",
   "execution_count": 1,
   "metadata": {},
   "outputs": [],
   "source": [
    "from Bio import SeqIO\n",
    "\n",
    "import altair as alt\n",
    "import pandas as pd\n",
    "import matplotlib.pyplot as plt\n",
    "import numpy as np\n",
    "import seaborn as sns\n",
    "\n",
    "import sys\n",
    "sys.path.append('../') # use modules in main directory\n",
    "import genbank_utils as gu"
   ]
  },
  {
   "cell_type": "code",
   "execution_count": 2,
   "metadata": {},
   "outputs": [
    {
     "name": "stdout",
     "output_type": "stream",
     "text": [
      "___ 5G ____\n",
      "Genome length: 4998879 bps\n",
      "num features: 8871\n",
      "num CDS features: 4373\n",
      "num gene features: 4431\n",
      "num other features: 67\n"
     ]
    }
   ],
   "source": [
    "# genbank files\n",
    "gbFile_5G = '../data/5GB1c_sequence.gb'\n",
    "gb_5G = SeqIO.parse(gbFile_5G, \"genbank\").__next__()\n",
    "\n",
    "print(\"___ 5G ____\")\n",
    "print(\"Genome length:\", len(gb_5G.seq), \"bps\")\n",
    "print(\"num features:\", len(gb_5G.features))\n",
    "print(\"num CDS features:\", len([x for x in gb_5G.features if x.type=='CDS']))\n",
    "print(\"num gene features:\", len([x for x in gb_5G.features if x.type=='gene']))\n",
    "print(\"num other features:\", len([x for x in gb_5G.features if x.type not in ['gene', 'CDS']]))"
   ]
  },
  {
   "cell_type": "code",
   "execution_count": 3,
   "metadata": {},
   "outputs": [
    {
     "data": {
      "text/plain": [
       "[(0, 1317, 1, 'EQU24_RS00005', 'dnaA', 'CDS'),\n",
       " (1502, 2603, 1, 'EQU24_RS00010', '', 'CDS'),\n",
       " (3060, 4140, 1, 'EQU24_RS00015', 'recF', 'CDS'),\n",
       " (4185, 6600, 1, 'EQU24_RS00020', 'gyrB', 'CDS'),\n",
       " (6825, 7062, 1, 'EQU24_RS00025', '', 'CDS'),\n",
       " (7098, 7257, 1, 'EQU24_RS00030', '', 'CDS'),\n",
       " (7350, 7734, 1, 'EQU24_RS00035', '', 'CDS'),\n",
       " (7818, 9075, 1, 'EQU24_RS00040', '', 'CDS'),\n",
       " (9071, 10241, 1, 'EQU24_RS00045', '', 'CDS'),\n",
       " (10240, 13306, 1, 'EQU24_RS00050', '', 'CDS')]"
      ]
     },
     "execution_count": 3,
     "metadata": {},
     "output_type": "execute_result"
    }
   ],
   "source": [
    "# get feature coords from genbanks file\n",
    "feats_5G = gu.get_feature_tuples_from_genbank(gbFile_5G)\n",
    "feats_5G_filt = [x for x in feats_5G if x[5] not in ['gene']]\n",
    "\n",
    "feats_5G_filt[:10]"
   ]
  },
  {
   "cell_type": "code",
   "execution_count": 4,
   "metadata": {},
   "outputs": [],
   "source": [
    "# feat list indices\n",
    "LEFT_IDX = 0\n",
    "RIGHT_IDX = 1\n",
    "STRAND_IDX = 2\n",
    "LOCUS_IDX = 3\n",
    "GENE_IDX = 4\n",
    "TYPE_IDX = 5"
   ]
  },
  {
   "cell_type": "markdown",
   "metadata": {},
   "source": [
    "# Curated operon analysis"
   ]
  },
  {
   "cell_type": "code",
   "execution_count": 5,
   "metadata": {},
   "outputs": [
    {
     "data": {
      "text/html": [
       "<div>\n",
       "<style scoped>\n",
       "    .dataframe tbody tr th:only-of-type {\n",
       "        vertical-align: middle;\n",
       "    }\n",
       "\n",
       "    .dataframe tbody tr th {\n",
       "        vertical-align: top;\n",
       "    }\n",
       "\n",
       "    .dataframe thead th {\n",
       "        text-align: right;\n",
       "    }\n",
       "</style>\n",
       "<table border=\"1\" class=\"dataframe\">\n",
       "  <thead>\n",
       "    <tr style=\"text-align: right;\">\n",
       "      <th></th>\n",
       "      <th>shortd</th>\n",
       "      <th>ncbi_locus</th>\n",
       "      <th>all_genes</th>\n",
       "    </tr>\n",
       "  </thead>\n",
       "  <tbody>\n",
       "    <tr>\n",
       "      <th>0</th>\n",
       "      <td>central_metab_edd</td>\n",
       "      <td>EQU24_RS06110</td>\n",
       "      <td>EQU24_RS06110,EQU24_RS06105,EQU24_RS06100</td>\n",
       "    </tr>\n",
       "    <tr>\n",
       "      <th>1</th>\n",
       "      <td>central_metab2</td>\n",
       "      <td>EQU24_RS06095</td>\n",
       "      <td>EQU24_RS06095,EQU24_RS06090,EQU24_RS06085</td>\n",
       "    </tr>\n",
       "    <tr>\n",
       "      <th>2</th>\n",
       "      <td>central_metab3</td>\n",
       "      <td>EQU24_RS06080</td>\n",
       "      <td>EQU24_RS06080,EQU24_RS06070,EQU24_RS06065</td>\n",
       "    </tr>\n",
       "    <tr>\n",
       "      <th>3</th>\n",
       "      <td>sMMO</td>\n",
       "      <td>EQU24_RS05885</td>\n",
       "      <td>EQU24_RS05910,EQU24_RS05905,EQU24_RS05900,EQU2...</td>\n",
       "    </tr>\n",
       "    <tr>\n",
       "      <th>4</th>\n",
       "      <td>flagellar_sys</td>\n",
       "      <td>EQU24_RS04900</td>\n",
       "      <td>EQU24_RS04945,EQU24_RS04940,EQU24_RS04935,EQU2...</td>\n",
       "    </tr>\n",
       "    <tr>\n",
       "      <th>5</th>\n",
       "      <td>serine_cycle</td>\n",
       "      <td>EQU24_RS04570</td>\n",
       "      <td>EQU24_RS04570,EQU24_RS04565,EQU24_RS04560,EQU2...</td>\n",
       "    </tr>\n",
       "    <tr>\n",
       "      <th>6</th>\n",
       "      <td>PQQ_synth</td>\n",
       "      <td>EQU24_RS02970</td>\n",
       "      <td>EQU24_RS02970,EQU24_RS02965,EQU24_RS02960,EQU2...</td>\n",
       "    </tr>\n",
       "    <tr>\n",
       "      <th>7</th>\n",
       "      <td>ATP_synthase</td>\n",
       "      <td>EQU24_RS02225</td>\n",
       "      <td>EQU24_RS02265,EQU24_RS02260,EQU24_RS02255,EQU2...</td>\n",
       "    </tr>\n",
       "    <tr>\n",
       "      <th>8</th>\n",
       "      <td>molyb_form_dh</td>\n",
       "      <td>EQU24_RS01475</td>\n",
       "      <td>EQU24_RS01475,EQU24_RS01470,EQU24_RS01465,EQU2...</td>\n",
       "    </tr>\n",
       "    <tr>\n",
       "      <th>9</th>\n",
       "      <td>RuMP_cycle1</td>\n",
       "      <td>EQU24_RS21565</td>\n",
       "      <td>EQU24_RS21565,EQU24_RS21560,EQU24_RS21555,EQU2...</td>\n",
       "    </tr>\n",
       "    <tr>\n",
       "      <th>10</th>\n",
       "      <td>Rnf_elec_transp</td>\n",
       "      <td>EQU24_RS19930</td>\n",
       "      <td>EQU24_RS19965,EQU24_RS19960,EQU24_RS19955,EQU2...</td>\n",
       "    </tr>\n",
       "    <tr>\n",
       "      <th>11</th>\n",
       "      <td>urease</td>\n",
       "      <td>EQU24_RS14900</td>\n",
       "      <td>EQU24_RS14900,EQU24_RS14895,EQU24_RS14890,EQU2...</td>\n",
       "    </tr>\n",
       "    <tr>\n",
       "      <th>12</th>\n",
       "      <td>cyt_c_synth</td>\n",
       "      <td>EQU24_RS14455</td>\n",
       "      <td>EQU24_RS14455,EQU24_RS14450,EQU24_RS14445,EQU2...</td>\n",
       "    </tr>\n",
       "    <tr>\n",
       "      <th>13</th>\n",
       "      <td>cyt_c_oxi</td>\n",
       "      <td>EQU24_RS14130</td>\n",
       "      <td>EQU24_RS14130,EQU24_RS14125</td>\n",
       "    </tr>\n",
       "    <tr>\n",
       "      <th>14</th>\n",
       "      <td>pMMO</td>\n",
       "      <td>EQU24_RS19315</td>\n",
       "      <td>EQU24_RS19315,EQU24_RS19310,EQU24_RS19305</td>\n",
       "    </tr>\n",
       "    <tr>\n",
       "      <th>15</th>\n",
       "      <td>mxa_methanol_dh</td>\n",
       "      <td>EQU24_RS18140</td>\n",
       "      <td>EQU24_RS18140,EQU24_RS18135,EQU24_RS18130,EQU2...</td>\n",
       "    </tr>\n",
       "    <tr>\n",
       "      <th>16</th>\n",
       "      <td>nif_elec_transp</td>\n",
       "      <td>EQU24_RS17265</td>\n",
       "      <td>EQU24_RS17265,EQU24_RS17260,EQU24_RS17255</td>\n",
       "    </tr>\n",
       "    <tr>\n",
       "      <th>17</th>\n",
       "      <td>nif_cofactor1</td>\n",
       "      <td>EQU24_RS17230</td>\n",
       "      <td>EQU24_RS17230,EQU24_RS17225,EQU24_RS17220,EQU2...</td>\n",
       "    </tr>\n",
       "    <tr>\n",
       "      <th>18</th>\n",
       "      <td>nif_cofactor2</td>\n",
       "      <td>EQU24_RS17170</td>\n",
       "      <td>EQU24_RS17170,EQU24_RS17165,EQU24_RS17160,EQU2...</td>\n",
       "    </tr>\n",
       "    <tr>\n",
       "      <th>19</th>\n",
       "      <td>nif_structural</td>\n",
       "      <td>EQU24_RS17065</td>\n",
       "      <td>EQU24_RS17095,EQU24_RS17090,EQU24_RS17085,EQU2...</td>\n",
       "    </tr>\n",
       "    <tr>\n",
       "      <th>20</th>\n",
       "      <td>flagellum</td>\n",
       "      <td>EQU24_RS16845</td>\n",
       "      <td>EQU24_RS16845,EQU24_RS16840,EQU24_RS16835,EQU2...</td>\n",
       "    </tr>\n",
       "    <tr>\n",
       "      <th>21</th>\n",
       "      <td>hopanoid_synth</td>\n",
       "      <td>EQU24_RS15360</td>\n",
       "      <td>EQU24_RS15380,EQU24_RS15375,EQU24_RS15370,EQU2...</td>\n",
       "    </tr>\n",
       "    <tr>\n",
       "      <th>22</th>\n",
       "      <td>b12_synth</td>\n",
       "      <td>EQU24_RS12000</td>\n",
       "      <td>EQU24_RS12060,EQU24_RS12055,EQU24_RS12050,EQU2...</td>\n",
       "    </tr>\n",
       "    <tr>\n",
       "      <th>23</th>\n",
       "      <td>heat_shock</td>\n",
       "      <td>EQU24_RS11555</td>\n",
       "      <td>EQU24_RS11555,EQU24_RS11550,EQU24_RS11545,EQU2...</td>\n",
       "    </tr>\n",
       "    <tr>\n",
       "      <th>24</th>\n",
       "      <td>w_formate_dh</td>\n",
       "      <td>EQU24_RS11515</td>\n",
       "      <td>EQU24_RS11520,EQU24_RS11515</td>\n",
       "    </tr>\n",
       "    <tr>\n",
       "      <th>25</th>\n",
       "      <td>FeS_cofactor</td>\n",
       "      <td>EQU24_RS10230</td>\n",
       "      <td>EQU24_RS10245,EQU24_RS10240,EQU24_RS10235,EQU2...</td>\n",
       "    </tr>\n",
       "    <tr>\n",
       "      <th>26</th>\n",
       "      <td>NADH_dh</td>\n",
       "      <td>EQU24_RS09760</td>\n",
       "      <td>EQU24_RS09785,EQU24_RS09780,EQU24_RS09775,EQU2...</td>\n",
       "    </tr>\n",
       "    <tr>\n",
       "      <th>27</th>\n",
       "      <td>hydrogenase</td>\n",
       "      <td>EQU24_RS08690</td>\n",
       "      <td>EQU24_RS08690,EQU24_RS08685,EQU24_RS08680,EQU2...</td>\n",
       "    </tr>\n",
       "    <tr>\n",
       "      <th>28</th>\n",
       "      <td>transhydrogenase</td>\n",
       "      <td>EQU24_RS08400</td>\n",
       "      <td>EQU24_RS08400,EQU24_RS08395</td>\n",
       "    </tr>\n",
       "    <tr>\n",
       "      <th>29</th>\n",
       "      <td>succ_dh</td>\n",
       "      <td>EQU24_RS06960</td>\n",
       "      <td>EQU24_RS06980,EQU24_RS06975,EQU24_RS06970,EQU2...</td>\n",
       "    </tr>\n",
       "  </tbody>\n",
       "</table>\n",
       "</div>"
      ],
      "text/plain": [
       "               shortd     ncbi_locus  \\\n",
       "0   central_metab_edd  EQU24_RS06110   \n",
       "1      central_metab2  EQU24_RS06095   \n",
       "2      central_metab3  EQU24_RS06080   \n",
       "3                sMMO  EQU24_RS05885   \n",
       "4       flagellar_sys  EQU24_RS04900   \n",
       "5        serine_cycle  EQU24_RS04570   \n",
       "6           PQQ_synth  EQU24_RS02970   \n",
       "7        ATP_synthase  EQU24_RS02225   \n",
       "8       molyb_form_dh  EQU24_RS01475   \n",
       "9         RuMP_cycle1  EQU24_RS21565   \n",
       "10    Rnf_elec_transp  EQU24_RS19930   \n",
       "11             urease  EQU24_RS14900   \n",
       "12        cyt_c_synth  EQU24_RS14455   \n",
       "13          cyt_c_oxi  EQU24_RS14130   \n",
       "14               pMMO  EQU24_RS19315   \n",
       "15    mxa_methanol_dh  EQU24_RS18140   \n",
       "16    nif_elec_transp  EQU24_RS17265   \n",
       "17      nif_cofactor1  EQU24_RS17230   \n",
       "18      nif_cofactor2  EQU24_RS17170   \n",
       "19     nif_structural  EQU24_RS17065   \n",
       "20          flagellum  EQU24_RS16845   \n",
       "21     hopanoid_synth  EQU24_RS15360   \n",
       "22          b12_synth  EQU24_RS12000   \n",
       "23         heat_shock  EQU24_RS11555   \n",
       "24       w_formate_dh  EQU24_RS11515   \n",
       "25       FeS_cofactor  EQU24_RS10230   \n",
       "26            NADH_dh  EQU24_RS09760   \n",
       "27        hydrogenase  EQU24_RS08690   \n",
       "28   transhydrogenase  EQU24_RS08400   \n",
       "29            succ_dh  EQU24_RS06960   \n",
       "\n",
       "                                            all_genes  \n",
       "0           EQU24_RS06110,EQU24_RS06105,EQU24_RS06100  \n",
       "1           EQU24_RS06095,EQU24_RS06090,EQU24_RS06085  \n",
       "2           EQU24_RS06080,EQU24_RS06070,EQU24_RS06065  \n",
       "3   EQU24_RS05910,EQU24_RS05905,EQU24_RS05900,EQU2...  \n",
       "4   EQU24_RS04945,EQU24_RS04940,EQU24_RS04935,EQU2...  \n",
       "5   EQU24_RS04570,EQU24_RS04565,EQU24_RS04560,EQU2...  \n",
       "6   EQU24_RS02970,EQU24_RS02965,EQU24_RS02960,EQU2...  \n",
       "7   EQU24_RS02265,EQU24_RS02260,EQU24_RS02255,EQU2...  \n",
       "8   EQU24_RS01475,EQU24_RS01470,EQU24_RS01465,EQU2...  \n",
       "9   EQU24_RS21565,EQU24_RS21560,EQU24_RS21555,EQU2...  \n",
       "10  EQU24_RS19965,EQU24_RS19960,EQU24_RS19955,EQU2...  \n",
       "11  EQU24_RS14900,EQU24_RS14895,EQU24_RS14890,EQU2...  \n",
       "12  EQU24_RS14455,EQU24_RS14450,EQU24_RS14445,EQU2...  \n",
       "13                        EQU24_RS14130,EQU24_RS14125  \n",
       "14          EQU24_RS19315,EQU24_RS19310,EQU24_RS19305  \n",
       "15  EQU24_RS18140,EQU24_RS18135,EQU24_RS18130,EQU2...  \n",
       "16          EQU24_RS17265,EQU24_RS17260,EQU24_RS17255  \n",
       "17  EQU24_RS17230,EQU24_RS17225,EQU24_RS17220,EQU2...  \n",
       "18  EQU24_RS17170,EQU24_RS17165,EQU24_RS17160,EQU2...  \n",
       "19  EQU24_RS17095,EQU24_RS17090,EQU24_RS17085,EQU2...  \n",
       "20  EQU24_RS16845,EQU24_RS16840,EQU24_RS16835,EQU2...  \n",
       "21  EQU24_RS15380,EQU24_RS15375,EQU24_RS15370,EQU2...  \n",
       "22  EQU24_RS12060,EQU24_RS12055,EQU24_RS12050,EQU2...  \n",
       "23  EQU24_RS11555,EQU24_RS11550,EQU24_RS11545,EQU2...  \n",
       "24                        EQU24_RS11520,EQU24_RS11515  \n",
       "25  EQU24_RS10245,EQU24_RS10240,EQU24_RS10235,EQU2...  \n",
       "26  EQU24_RS09785,EQU24_RS09780,EQU24_RS09775,EQU2...  \n",
       "27  EQU24_RS08690,EQU24_RS08685,EQU24_RS08680,EQU2...  \n",
       "28                        EQU24_RS08400,EQU24_RS08395  \n",
       "29  EQU24_RS06980,EQU24_RS06975,EQU24_RS06970,EQU2...  "
      ]
     },
     "execution_count": 5,
     "metadata": {},
     "output_type": "execute_result"
    }
   ],
   "source": [
    "# load file of curated operons\n",
    "op_df = pd.read_csv(\"../data/operon_ncbi_ids.txt\", sep='\\t')\n",
    "op_df"
   ]
  },
  {
   "cell_type": "markdown",
   "metadata": {},
   "source": [
    "Mary curatd the above 30 operons as respresentative examples of operons in _M. buryatense_. We analyzed these examples to better understand the typical distance between genes known to be in an operon."
   ]
  },
  {
   "cell_type": "code",
   "execution_count": 6,
   "metadata": {},
   "outputs": [
    {
     "name": "stdout",
     "output_type": "stream",
     "text": [
      "Total genes in example operons: 175\n"
     ]
    }
   ],
   "source": [
    "# get list of ids of genes in operons \n",
    "all_op_genes = set(\",\".join(op_df['all_genes'].values).split(','))\n",
    "# as well as a list of first-genes in operons\n",
    "op_first_genes = set(op_df['ncbi_locus'].values)\n",
    "\n",
    "print(\"Total genes in example operons:\",len(all_op_genes))"
   ]
  },
  {
   "cell_type": "markdown",
   "metadata": {},
   "source": [
    "### Build a dict of all genes in Mary's list to its upstream distance to its nearest neighbor"
   ]
  },
  {
   "cell_type": "code",
   "execution_count": 7,
   "metadata": {},
   "outputs": [
    {
     "data": {
      "text/plain": [
       "[('EQU24_RS01455', 187),\n",
       " ('EQU24_RS01460', -8),\n",
       " ('EQU24_RS01465', 19),\n",
       " ('EQU24_RS01470', -4),\n",
       " ('EQU24_RS01475', 314),\n",
       " ('EQU24_RS02225', 115),\n",
       " ('EQU24_RS02230', 24),\n",
       " ('EQU24_RS02235', 42),\n",
       " ('EQU24_RS02240', 42),\n",
       " ('EQU24_RS02245', 5)]"
      ]
     },
     "execution_count": 7,
     "metadata": {},
     "output_type": "execute_result"
    }
   ],
   "source": [
    "upd = {} # key: gene, value: upstream_distance\n",
    "\n",
    "# loop through all features\n",
    "for i,(g_left,g_right,strand,locus,gene,typee) in enumerate(feats_5G_filt):\n",
    "    # if this is a gene in one of Mary's operons, get it's upstream dist\n",
    "    if locus in all_op_genes:\n",
    "        # if we're on the negative strand, look to the right\n",
    "        if strand == -1:\n",
    "            # make sure we're not the very last gene\n",
    "            if i < len(feats_5G_filt) -1:\n",
    "                # get the FOLLOWING feature (because on -1 strand)\n",
    "                upstream_gene = feats_5G_filt[i+1]\n",
    "                upstream_dist = upstream_gene[LEFT_IDX] - g_right\n",
    "\n",
    "        # otherwise, we're on the positive strand so look left\n",
    "        else:\n",
    "            # make sure we're not the very first gene\n",
    "            if i != 0:\n",
    "                # get the PREVIOUS feature (because on +1 strand)\n",
    "                upstream_gene = feats_5G_filt[i-1]\n",
    "                upstream_dist = g_left - upstream_gene[RIGHT_IDX]\n",
    "                \n",
    "        upd[locus] = upstream_dist\n",
    "        \n",
    "# print a few examples from the usptream distance dict\n",
    "[(x,upd[x]) for x in list(upd.keys())[:10]]"
   ]
  },
  {
   "cell_type": "markdown",
   "metadata": {},
   "source": [
    "## For every example operon, visualize the upstream distance for all genes inside, as well as the upstream distance from the first gene in the operon to its nearest neighor NOT in the operon"
   ]
  },
  {
   "cell_type": "code",
   "execution_count": 8,
   "metadata": {},
   "outputs": [
    {
     "data": {
      "text/html": [
       "<div>\n",
       "<style scoped>\n",
       "    .dataframe tbody tr th:only-of-type {\n",
       "        vertical-align: middle;\n",
       "    }\n",
       "\n",
       "    .dataframe tbody tr th {\n",
       "        vertical-align: top;\n",
       "    }\n",
       "\n",
       "    .dataframe thead th {\n",
       "        text-align: right;\n",
       "    }\n",
       "</style>\n",
       "<table border=\"1\" class=\"dataframe\">\n",
       "  <thead>\n",
       "    <tr style=\"text-align: right;\">\n",
       "      <th></th>\n",
       "      <th>gene</th>\n",
       "      <th>upstream_dist</th>\n",
       "      <th>start?</th>\n",
       "      <th>operon</th>\n",
       "    </tr>\n",
       "  </thead>\n",
       "  <tbody>\n",
       "    <tr>\n",
       "      <th>0</th>\n",
       "      <td>EQU24_RS06110</td>\n",
       "      <td>980</td>\n",
       "      <td>True</td>\n",
       "      <td>central_metab_edd</td>\n",
       "    </tr>\n",
       "    <tr>\n",
       "      <th>1</th>\n",
       "      <td>EQU24_RS06105</td>\n",
       "      <td>64</td>\n",
       "      <td>False</td>\n",
       "      <td>central_metab_edd</td>\n",
       "    </tr>\n",
       "    <tr>\n",
       "      <th>2</th>\n",
       "      <td>EQU24_RS06100</td>\n",
       "      <td>238</td>\n",
       "      <td>False</td>\n",
       "      <td>central_metab_edd</td>\n",
       "    </tr>\n",
       "    <tr>\n",
       "      <th>0</th>\n",
       "      <td>EQU24_RS06095</td>\n",
       "      <td>760</td>\n",
       "      <td>True</td>\n",
       "      <td>central_metab2</td>\n",
       "    </tr>\n",
       "    <tr>\n",
       "      <th>1</th>\n",
       "      <td>EQU24_RS06090</td>\n",
       "      <td>16</td>\n",
       "      <td>False</td>\n",
       "      <td>central_metab2</td>\n",
       "    </tr>\n",
       "    <tr>\n",
       "      <th>2</th>\n",
       "      <td>EQU24_RS06085</td>\n",
       "      <td>100</td>\n",
       "      <td>False</td>\n",
       "      <td>central_metab2</td>\n",
       "    </tr>\n",
       "    <tr>\n",
       "      <th>0</th>\n",
       "      <td>EQU24_RS06080</td>\n",
       "      <td>756</td>\n",
       "      <td>True</td>\n",
       "      <td>central_metab3</td>\n",
       "    </tr>\n",
       "    <tr>\n",
       "      <th>1</th>\n",
       "      <td>EQU24_RS06070</td>\n",
       "      <td>134</td>\n",
       "      <td>False</td>\n",
       "      <td>central_metab3</td>\n",
       "    </tr>\n",
       "    <tr>\n",
       "      <th>2</th>\n",
       "      <td>EQU24_RS06065</td>\n",
       "      <td>-1</td>\n",
       "      <td>False</td>\n",
       "      <td>central_metab3</td>\n",
       "    </tr>\n",
       "    <tr>\n",
       "      <th>0</th>\n",
       "      <td>EQU24_RS05910</td>\n",
       "      <td>23</td>\n",
       "      <td>False</td>\n",
       "      <td>sMMO</td>\n",
       "    </tr>\n",
       "  </tbody>\n",
       "</table>\n",
       "</div>"
      ],
      "text/plain": [
       "            gene  upstream_dist  start?             operon\n",
       "0  EQU24_RS06110            980    True  central_metab_edd\n",
       "1  EQU24_RS06105             64   False  central_metab_edd\n",
       "2  EQU24_RS06100            238   False  central_metab_edd\n",
       "0  EQU24_RS06095            760    True     central_metab2\n",
       "1  EQU24_RS06090             16   False     central_metab2\n",
       "2  EQU24_RS06085            100   False     central_metab2\n",
       "0  EQU24_RS06080            756    True     central_metab3\n",
       "1  EQU24_RS06070            134   False     central_metab3\n",
       "2  EQU24_RS06065             -1   False     central_metab3\n",
       "0  EQU24_RS05910             23   False               sMMO"
      ]
     },
     "execution_count": 8,
     "metadata": {},
     "output_type": "execute_result"
    }
   ],
   "source": [
    "# Make a full grid of operon upstream distances\n",
    "all_dfs = []\n",
    "\n",
    "for i,row in op_df.iterrows():\n",
    "    start_gene = row['ncbi_locus']\n",
    "    other_genes = [x for x in row['all_genes'].split(',') if x !=start_gene]\n",
    "    start_up_dist = upd[start_gene]\n",
    "    other_dists = [upd[x] for x in other_genes]\n",
    "\n",
    "    \n",
    "    df = pd.DataFrame()\n",
    "    df['gene'] = row['all_genes'].split(',')\n",
    "    df['upstream_dist'] = df['gene'].apply(lambda x: upd[x])\n",
    "    df['start?'] = df['gene'].apply(lambda x: True if x == start_gene else False)\n",
    "    df['operon'] = row['shortd']\n",
    "    \n",
    "    all_dfs.append(df)\n",
    "\n",
    "all_ops_df = pd.concat(all_dfs)\n",
    "all_ops_df.head(10)"
   ]
  },
  {
   "cell_type": "code",
   "execution_count": 9,
   "metadata": {
    "scrolled": false
   },
   "outputs": [
    {
     "data": {
      "image/png": "[encoded data removed]",
      "text/plain": [
       "<Figure size 1080x1080 with 30 Axes>"
      ]
     },
     "metadata": {
      "needs_background": "light"
     },
     "output_type": "display_data"
    }
   ],
   "source": [
    "# We can ask for ALL THE AXES and put them into axes\n",
    "fig, axes = plt.subplots(nrows=6, ncols=6, sharex=False, sharey='row', figsize=(15,15))\n",
    "axes_list = [item for sublist in axes for item in sublist] \n",
    "\n",
    "for operon, selection in all_ops_df.groupby(\"operon\"):\n",
    "    ax = axes_list.pop(0)\n",
    "    sns.barplot(data=selection,x='gene',y='upstream_dist',hue='start?',dodge=False, ax=ax)\n",
    "    ax.set_title(operon,fontsize=14)\n",
    "    ax.tick_params(\n",
    "        right=False,\n",
    "        top=False\n",
    "    )\n",
    "    ax.get_legend().remove()\n",
    "    ax.grid(linewidth=0.25)\n",
    "    ax.set_ylim((-50, 1700))\n",
    "    ax.set_xlabel(\"\")\n",
    "    ax.set_xticklabels(\"\")\n",
    "    ax.spines['top'].set_visible(False)\n",
    "    ax.spines['right'].set_visible(False)\n",
    "\n",
    "# Now use the matplotlib .remove() method to \n",
    "# delete anything we didn't use\n",
    "for ax in axes_list:\n",
    "    ax.remove()\n",
    "\n",
    "\n",
    "plt.tight_layout()"
   ]
  },
  {
   "cell_type": "markdown",
   "metadata": {},
   "source": [
    "Each operon has it's leading gene in orange and all internal genes in blue. The height of the bar is the distance between each gene and it's nearest upstream neighbor on the same strand. Overall, leading genes have the biggest upstream distance, though some internal genes (such as those for the \"hydrogenase\" operon) have large distances (over 250)"
   ]
  },
  {
   "cell_type": "markdown",
   "metadata": {},
   "source": [
    "### Calculate the average distance between genes inside operons"
   ]
  },
  {
   "cell_type": "code",
   "execution_count": 10,
   "metadata": {
    "scrolled": false
   },
   "outputs": [
    {
     "name": "stdout",
     "output_type": "stream",
     "text": [
      "Mean: 44.675862068965515\n",
      "Median: 16.0\n"
     ]
    }
   ],
   "source": [
    "all_non_start_dists = []\n",
    "mean_dist_per_operon = []\n",
    "\n",
    "for i,row in op_df.iterrows():\n",
    "    start_gene = row['ncbi_locus']\n",
    "    other_genes = [x for x in row['all_genes'].split(',') if x !=start_gene]\n",
    "    start_up_dist = upd[start_gene]\n",
    "    other_dists = [upd[x] for x in other_genes]\n",
    "    \n",
    "    # collect averages\n",
    "    op_ave = np.mean(other_dists)\n",
    "    all_non_start_dists += other_dists\n",
    "    mean_dist_per_operon.append(op_ave)\n",
    "    \n",
    "    # build dataframe for seaborn\n",
    "    df = pd.DataFrame()\n",
    "    df['gene'] = row['all_genes'].split(',')\n",
    "    df['upstream_dist'] = df['gene'].apply(lambda x: upd[x])\n",
    "    df['start?'] = df['gene'].apply(lambda x: True if x == start_gene else False)\n",
    "    \n",
    "\n",
    "# average over all non-start genes\n",
    "print(\"Mean:\",np.mean(all_non_start_dists))\n",
    "print(\"Median:\",np.median(all_non_start_dists))"
   ]
  },
  {
   "cell_type": "markdown",
   "metadata": {},
   "source": [
    "### Visualize the distibution of upstream distances for all inside-operon genes"
   ]
  },
  {
   "cell_type": "code",
   "execution_count": 11,
   "metadata": {},
   "outputs": [
    {
     "data": {
      "image/png": "[encoded data removed]",
      "text/plain": [
       "<Figure size 720x360 with 1 Axes>"
      ]
     },
     "metadata": {
      "needs_background": "light"
     },
     "output_type": "display_data"
    }
   ],
   "source": [
    "plt.figure(figsize=(10,5))\n",
    "ax = sns.swarmplot(all_non_start_dists,s=6)\n",
    "ax.set_xticks(np.arange(-50,400,50))\n",
    "plt.xlabel(\"Upstream distance\")\n",
    "plt.title(\"Every non-starting operon gene's upstream distance\",fontsize=20)\n",
    "plt.show()\n"
   ]
  },
  {
   "cell_type": "code",
   "execution_count": 12,
   "metadata": {},
   "outputs": [
    {
     "data": {
      "text/html": [
       "\n",
       "<div id=\"altair-viz-06875b1b9665405d976613113c22d053\"></div>\n",
       "<script type=\"text/javascript\">\n",
       "  (function(spec, embedOpt){\n",
       "    const outputDiv = document.getElementById(\"altair-viz-06875b1b9665405d976613113c22d053\");\n",
       "    const paths = {\n",
       "      \"vega\": \"https://cdn.jsdelivr.net/npm//vega@5?noext\",\n",
       "      \"vega-lib\": \"https://cdn.jsdelivr.net/npm//vega-lib?noext\",\n",
       "      \"vega-lite\": \"https://cdn.jsdelivr.net/npm//vega-lite@4.0.2?noext\",\n",
       "      \"vega-embed\": \"https://cdn.jsdelivr.net/npm//vega-embed@6?noext\",\n",
       "    };\n",
       "\n",
       "    function loadScript(lib) {\n",
       "      return new Promise(function(resolve, reject) {\n",
       "        var s = document.createElement('script');\n",
       "        s.src = paths[lib];\n",
       "        s.async = true;\n",
       "        s.onload = () => resolve(paths[lib]);\n",
       "        s.onerror = () => reject(`Error loading script: ${paths[lib]}`);\n",
       "        document.getElementsByTagName(\"head\")[0].appendChild(s);\n",
       "      });\n",
       "    }\n",
       "\n",
       "    function showError(err) {\n",
       "      outputDiv.innerHTML = `<div class=\"error\" style=\"color:red;\">${err}</div>`;\n",
       "      throw err;\n",
       "    }\n",
       "\n",
       "    function displayChart(vegaEmbed) {\n",
       "      vegaEmbed(outputDiv, spec, embedOpt)\n",
       "        .catch(err => showError(`Javascript Error: ${err.message}<br>This usually means there's a typo in your chart specification. See the javascript console for the full traceback.`));\n",
       "    }\n",
       "\n",
       "    if(typeof define === \"function\" && define.amd) {\n",
       "      requirejs.config({paths});\n",
       "      require([\"vega-embed\"], displayChart, err => showError(`Error loading script: ${err.message}`));\n",
       "    } else if (typeof vegaEmbed === \"function\") {\n",
       "      displayChart(vegaEmbed);\n",
       "    } else {\n",
       "      loadScript(\"vega\")\n",
       "        .then(() => loadScript(\"vega-lite\"))\n",
       "        .then(() => loadScript(\"vega-embed\"))\n",
       "        .catch(showError)\n",
       "        .then(() => displayChart(vegaEmbed));\n",
       "    }\n",
       "  })({\"config\": {\"view\": {\"continuousWidth\": 400, \"continuousHeight\": 300}}, \"data\": {\"name\": \"data-87f11a144365f109ef54836178a5d0ed\"}, \"mark\": \"point\", \"encoding\": {\"color\": {\"type\": \"nominal\", \"field\": \"operon\", \"scale\": {\"scheme\": \"sinebow\"}}, \"opacity\": {\"condition\": {\"value\": 1, \"selection\": \"selector001\"}, \"value\": 0.2}, \"size\": {\"condition\": {\"value\": 100, \"selection\": \"selector001\"}, \"value\": 10}, \"tooltip\": [{\"type\": \"nominal\", \"field\": \"operon\"}, {\"type\": \"nominal\", \"field\": \"gene\"}, {\"type\": \"quantitative\", \"field\": \"upstream_dist\"}], \"x\": {\"type\": \"quantitative\", \"axis\": {\"title\": \"Upstream Distance\"}, \"field\": \"upstream_dist\"}, \"y\": {\"type\": \"quantitative\", \"axis\": {\"grid\": false, \"labels\": false, \"ticks\": true, \"values\": [0]}, \"field\": \"jitter\", \"scale\": {}, \"title\": null}}, \"height\": 300, \"selection\": {\"selector001\": {\"type\": \"multi\", \"fields\": [\"operon\"], \"bind\": \"legend\"}, \"selector002\": {\"type\": \"interval\", \"bind\": \"scales\", \"encodings\": [\"x\", \"y\"]}}, \"title\": \"Every non-starting operon gene's upstream distance\", \"transform\": [{\"calculate\": \"sqrt(-2*log(random()))*cos(2*PI*random())\", \"as\": \"jitter\"}], \"width\": 500, \"$schema\": \"https://vega.github.io/schema/vega-lite/v4.0.2.json\", \"datasets\": {\"data-87f11a144365f109ef54836178a5d0ed\": [{\"gene\": \"EQU24_RS06105\", \"upstream_dist\": 64, \"start?\": false, \"operon\": \"central_metab_edd\"}, {\"gene\": \"EQU24_RS06100\", \"upstream_dist\": 238, \"start?\": false, \"operon\": \"central_metab_edd\"}, {\"gene\": \"EQU24_RS06090\", \"upstream_dist\": 16, \"start?\": false, \"operon\": \"central_metab2\"}, {\"gene\": \"EQU24_RS06085\", \"upstream_dist\": 100, \"start?\": false, \"operon\": \"central_metab2\"}, {\"gene\": \"EQU24_RS06070\", \"upstream_dist\": 134, \"start?\": false, \"operon\": \"central_metab3\"}, {\"gene\": \"EQU24_RS06065\", \"upstream_dist\": -1, \"start?\": false, \"operon\": \"central_metab3\"}, {\"gene\": \"EQU24_RS05910\", \"upstream_dist\": 23, \"start?\": false, \"operon\": \"sMMO\"}, {\"gene\": \"EQU24_RS05905\", \"upstream_dist\": 326, \"start?\": false, \"operon\": \"sMMO\"}, {\"gene\": \"EQU24_RS05900\", \"upstream_dist\": 9, \"start?\": false, \"operon\": \"sMMO\"}, {\"gene\": \"EQU24_RS05895\", \"upstream_dist\": 10, \"start?\": false, \"operon\": \"sMMO\"}, {\"gene\": \"EQU24_RS05890\", \"upstream_dist\": 113, \"start?\": false, \"operon\": \"sMMO\"}, {\"gene\": \"EQU24_RS04945\", \"upstream_dist\": 27, \"start?\": false, \"operon\": \"flagellar_sys\"}, {\"gene\": \"EQU24_RS04940\", \"upstream_dist\": 217, \"start?\": false, \"operon\": \"flagellar_sys\"}, {\"gene\": \"EQU24_RS04935\", \"upstream_dist\": -4, \"start?\": false, \"operon\": \"flagellar_sys\"}, {\"gene\": \"EQU24_RS04930\", \"upstream_dist\": -14, \"start?\": false, \"operon\": \"flagellar_sys\"}, {\"gene\": \"EQU24_RS04925\", \"upstream_dist\": -8, \"start?\": false, \"operon\": \"flagellar_sys\"}, {\"gene\": \"EQU24_RS04920\", \"upstream_dist\": 17, \"start?\": false, \"operon\": \"flagellar_sys\"}, {\"gene\": \"EQU24_RS04915\", \"upstream_dist\": 57, \"start?\": false, \"operon\": \"flagellar_sys\"}, {\"gene\": \"EQU24_RS04910\", \"upstream_dist\": -14, \"start?\": false, \"operon\": \"flagellar_sys\"}, {\"gene\": \"EQU24_RS04905\", \"upstream_dist\": 120, \"start?\": false, \"operon\": \"flagellar_sys\"}, {\"gene\": \"EQU24_RS04565\", \"upstream_dist\": 24, \"start?\": false, \"operon\": \"serine_cycle\"}, {\"gene\": \"EQU24_RS04560\", \"upstream_dist\": 125, \"start?\": false, \"operon\": \"serine_cycle\"}, {\"gene\": \"EQU24_RS04555\", \"upstream_dist\": 31, \"start?\": false, \"operon\": \"serine_cycle\"}, {\"gene\": \"EQU24_RS02965\", \"upstream_dist\": 200, \"start?\": false, \"operon\": \"PQQ_synth\"}, {\"gene\": \"EQU24_RS02960\", \"upstream_dist\": 22, \"start?\": false, \"operon\": \"PQQ_synth\"}, {\"gene\": \"EQU24_RS02955\", \"upstream_dist\": 31, \"start?\": false, \"operon\": \"PQQ_synth\"}, {\"gene\": \"EQU24_RS02950\", \"upstream_dist\": 85, \"start?\": false, \"operon\": \"PQQ_synth\"}, {\"gene\": \"EQU24_RS02945\", \"upstream_dist\": -23, \"start?\": false, \"operon\": \"PQQ_synth\"}, {\"gene\": \"EQU24_RS02265\", \"upstream_dist\": 21, \"start?\": false, \"operon\": \"ATP_synthase\"}, {\"gene\": \"EQU24_RS02260\", \"upstream_dist\": 45, \"start?\": false, \"operon\": \"ATP_synthase\"}, {\"gene\": \"EQU24_RS02255\", \"upstream_dist\": 12, \"start?\": false, \"operon\": \"ATP_synthase\"}, {\"gene\": \"EQU24_RS02250\", \"upstream_dist\": 16, \"start?\": false, \"operon\": \"ATP_synthase\"}, {\"gene\": \"EQU24_RS02245\", \"upstream_dist\": 5, \"start?\": false, \"operon\": \"ATP_synthase\"}, {\"gene\": \"EQU24_RS02240\", \"upstream_dist\": 42, \"start?\": false, \"operon\": \"ATP_synthase\"}, {\"gene\": \"EQU24_RS02235\", \"upstream_dist\": 42, \"start?\": false, \"operon\": \"ATP_synthase\"}, {\"gene\": \"EQU24_RS02230\", \"upstream_dist\": 24, \"start?\": false, \"operon\": \"ATP_synthase\"}, {\"gene\": \"EQU24_RS01470\", \"upstream_dist\": -4, \"start?\": false, \"operon\": \"molyb_form_dh\"}, {\"gene\": \"EQU24_RS01465\", \"upstream_dist\": 19, \"start?\": false, \"operon\": \"molyb_form_dh\"}, {\"gene\": \"EQU24_RS01460\", \"upstream_dist\": -8, \"start?\": false, \"operon\": \"molyb_form_dh\"}, {\"gene\": \"EQU24_RS01455\", \"upstream_dist\": 187, \"start?\": false, \"operon\": \"molyb_form_dh\"}, {\"gene\": \"EQU24_RS21560\", \"upstream_dist\": 129, \"start?\": false, \"operon\": \"RuMP_cycle1\"}, {\"gene\": \"EQU24_RS21555\", \"upstream_dist\": 126, \"start?\": false, \"operon\": \"RuMP_cycle1\"}, {\"gene\": \"EQU24_RS21550\", \"upstream_dist\": 201, \"start?\": false, \"operon\": \"RuMP_cycle1\"}, {\"gene\": \"EQU24_RS19965\", \"upstream_dist\": 22, \"start?\": false, \"operon\": \"Rnf_elec_transp\"}, {\"gene\": \"EQU24_RS19960\", \"upstream_dist\": 226, \"start?\": false, \"operon\": \"Rnf_elec_transp\"}, {\"gene\": \"EQU24_RS19955\", \"upstream_dist\": -4, \"start?\": false, \"operon\": \"Rnf_elec_transp\"}, {\"gene\": \"EQU24_RS19950\", \"upstream_dist\": 218, \"start?\": false, \"operon\": \"Rnf_elec_transp\"}, {\"gene\": \"EQU24_RS19945\", \"upstream_dist\": 11, \"start?\": false, \"operon\": \"Rnf_elec_transp\"}, {\"gene\": \"EQU24_RS19940\", \"upstream_dist\": -8, \"start?\": false, \"operon\": \"Rnf_elec_transp\"}, {\"gene\": \"EQU24_RS19935\", \"upstream_dist\": 4, \"start?\": false, \"operon\": \"Rnf_elec_transp\"}, {\"gene\": \"EQU24_RS14895\", \"upstream_dist\": 4, \"start?\": false, \"operon\": \"urease\"}, {\"gene\": \"EQU24_RS14890\", \"upstream_dist\": 28, \"start?\": false, \"operon\": \"urease\"}, {\"gene\": \"EQU24_RS14885\", \"upstream_dist\": 8, \"start?\": false, \"operon\": \"urease\"}, {\"gene\": \"EQU24_RS14880\", \"upstream_dist\": -8, \"start?\": false, \"operon\": \"urease\"}, {\"gene\": \"EQU24_RS14875\", \"upstream_dist\": 4, \"start?\": false, \"operon\": \"urease\"}, {\"gene\": \"EQU24_RS14870\", \"upstream_dist\": -11, \"start?\": false, \"operon\": \"urease\"}, {\"gene\": \"EQU24_RS14865\", \"upstream_dist\": 106, \"start?\": false, \"operon\": \"urease\"}, {\"gene\": \"EQU24_RS14450\", \"upstream_dist\": -1, \"start?\": false, \"operon\": \"cyt_c_synth\"}, {\"gene\": \"EQU24_RS14445\", \"upstream_dist\": 124, \"start?\": false, \"operon\": \"cyt_c_synth\"}, {\"gene\": \"EQU24_RS14440\", \"upstream_dist\": -4, \"start?\": false, \"operon\": \"cyt_c_synth\"}, {\"gene\": \"EQU24_RS14435\", \"upstream_dist\": -4, \"start?\": false, \"operon\": \"cyt_c_synth\"}, {\"gene\": \"EQU24_RS14430\", \"upstream_dist\": -4, \"start?\": false, \"operon\": \"cyt_c_synth\"}, {\"gene\": \"EQU24_RS14425\", \"upstream_dist\": -8, \"start?\": false, \"operon\": \"cyt_c_synth\"}, {\"gene\": \"EQU24_RS14420\", \"upstream_dist\": 22, \"start?\": false, \"operon\": \"cyt_c_synth\"}, {\"gene\": \"EQU24_RS14415\", \"upstream_dist\": 111, \"start?\": false, \"operon\": \"cyt_c_synth\"}, {\"gene\": \"EQU24_RS14410\", \"upstream_dist\": -4, \"start?\": false, \"operon\": \"cyt_c_synth\"}, {\"gene\": \"EQU24_RS14405\", \"upstream_dist\": -4, \"start?\": false, \"operon\": \"cyt_c_synth\"}, {\"gene\": \"EQU24_RS14125\", \"upstream_dist\": 52, \"start?\": false, \"operon\": \"cyt_c_oxi\"}, {\"gene\": \"EQU24_RS19310\", \"upstream_dist\": 108, \"start?\": false, \"operon\": \"pMMO\"}, {\"gene\": \"EQU24_RS19305\", \"upstream_dist\": 93, \"start?\": false, \"operon\": \"pMMO\"}, {\"gene\": \"EQU24_RS18135\", \"upstream_dist\": 65, \"start?\": false, \"operon\": \"mxa_methanol_dh\"}, {\"gene\": \"EQU24_RS18130\", \"upstream_dist\": 16, \"start?\": false, \"operon\": \"mxa_methanol_dh\"}, {\"gene\": \"EQU24_RS18125\", \"upstream_dist\": 17, \"start?\": false, \"operon\": \"mxa_methanol_dh\"}, {\"gene\": \"EQU24_RS18120\", \"upstream_dist\": 195, \"start?\": false, \"operon\": \"mxa_methanol_dh\"}, {\"gene\": \"EQU24_RS17260\", \"upstream_dist\": 19, \"start?\": false, \"operon\": \"nif_elec_transp\"}, {\"gene\": \"EQU24_RS17255\", \"upstream_dist\": -4, \"start?\": false, \"operon\": \"nif_elec_transp\"}, {\"gene\": \"EQU24_RS17225\", \"upstream_dist\": 61, \"start?\": false, \"operon\": \"nif_cofactor1\"}, {\"gene\": \"EQU24_RS17220\", \"upstream_dist\": 65, \"start?\": false, \"operon\": \"nif_cofactor1\"}, {\"gene\": \"EQU24_RS17215\", \"upstream_dist\": -4, \"start?\": false, \"operon\": \"nif_cofactor1\"}, {\"gene\": \"EQU24_RS17210\", \"upstream_dist\": 128, \"start?\": false, \"operon\": \"nif_cofactor1\"}, {\"gene\": \"EQU24_RS17205\", \"upstream_dist\": 19, \"start?\": false, \"operon\": \"nif_cofactor1\"}, {\"gene\": \"EQU24_RS17200\", \"upstream_dist\": -1, \"start?\": false, \"operon\": \"nif_cofactor1\"}, {\"gene\": \"EQU24_RS17165\", \"upstream_dist\": 5, \"start?\": false, \"operon\": \"nif_cofactor2\"}, {\"gene\": \"EQU24_RS17160\", \"upstream_dist\": 56, \"start?\": false, \"operon\": \"nif_cofactor2\"}, {\"gene\": \"EQU24_RS17155\", \"upstream_dist\": 99, \"start?\": false, \"operon\": \"nif_cofactor2\"}, {\"gene\": \"EQU24_RS17150\", \"upstream_dist\": 10, \"start?\": false, \"operon\": \"nif_cofactor2\"}, {\"gene\": \"EQU24_RS17145\", \"upstream_dist\": 8, \"start?\": false, \"operon\": \"nif_cofactor2\"}, {\"gene\": \"EQU24_RS17140\", \"upstream_dist\": 144, \"start?\": false, \"operon\": \"nif_cofactor2\"}, {\"gene\": \"EQU24_RS17135\", \"upstream_dist\": -4, \"start?\": false, \"operon\": \"nif_cofactor2\"}, {\"gene\": \"EQU24_RS17130\", \"upstream_dist\": 1, \"start?\": false, \"operon\": \"nif_cofactor2\"}, {\"gene\": \"EQU24_RS17095\", \"upstream_dist\": 9, \"start?\": false, \"operon\": \"nif_structural\"}, {\"gene\": \"EQU24_RS17090\", \"upstream_dist\": 3, \"start?\": false, \"operon\": \"nif_structural\"}, {\"gene\": \"EQU24_RS17085\", \"upstream_dist\": 10, \"start?\": false, \"operon\": \"nif_structural\"}, {\"gene\": \"EQU24_RS17080\", \"upstream_dist\": 72, \"start?\": false, \"operon\": \"nif_structural\"}, {\"gene\": \"EQU24_RS17075\", \"upstream_dist\": 142, \"start?\": false, \"operon\": \"nif_structural\"}, {\"gene\": \"EQU24_RS17070\", \"upstream_dist\": 137, \"start?\": false, \"operon\": \"nif_structural\"}, {\"gene\": \"EQU24_RS16840\", \"upstream_dist\": 2, \"start?\": false, \"operon\": \"flagellum\"}, {\"gene\": \"EQU24_RS16835\", \"upstream_dist\": 24, \"start?\": false, \"operon\": \"flagellum\"}, {\"gene\": \"EQU24_RS16830\", \"upstream_dist\": 24, \"start?\": false, \"operon\": \"flagellum\"}, {\"gene\": \"EQU24_RS16825\", \"upstream_dist\": 20, \"start?\": false, \"operon\": \"flagellum\"}, {\"gene\": \"EQU24_RS16820\", \"upstream_dist\": 63, \"start?\": false, \"operon\": \"flagellum\"}, {\"gene\": \"EQU24_RS16815\", \"upstream_dist\": 9, \"start?\": false, \"operon\": \"flagellum\"}, {\"gene\": \"EQU24_RS16810\", \"upstream_dist\": 31, \"start?\": false, \"operon\": \"flagellum\"}, {\"gene\": \"EQU24_RS16805\", \"upstream_dist\": 12, \"start?\": false, \"operon\": \"flagellum\"}, {\"gene\": \"EQU24_RS16800\", \"upstream_dist\": 27, \"start?\": false, \"operon\": \"flagellum\"}, {\"gene\": \"EQU24_RS16795\", \"upstream_dist\": 13, \"start?\": false, \"operon\": \"flagellum\"}, {\"gene\": \"EQU24_RS15380\", \"upstream_dist\": 16, \"start?\": false, \"operon\": \"hopanoid_synth\"}, {\"gene\": \"EQU24_RS15375\", \"upstream_dist\": 19, \"start?\": false, \"operon\": \"hopanoid_synth\"}, {\"gene\": \"EQU24_RS15370\", \"upstream_dist\": -4, \"start?\": false, \"operon\": \"hopanoid_synth\"}, {\"gene\": \"EQU24_RS15365\", \"upstream_dist\": 10, \"start?\": false, \"operon\": \"hopanoid_synth\"}, {\"gene\": \"EQU24_RS12060\", \"upstream_dist\": -8, \"start?\": false, \"operon\": \"b12_synth\"}, {\"gene\": \"EQU24_RS12055\", \"upstream_dist\": -4, \"start?\": false, \"operon\": \"b12_synth\"}, {\"gene\": \"EQU24_RS12050\", \"upstream_dist\": -4, \"start?\": false, \"operon\": \"b12_synth\"}, {\"gene\": \"EQU24_RS12045\", \"upstream_dist\": -8, \"start?\": false, \"operon\": \"b12_synth\"}, {\"gene\": \"EQU24_RS12040\", \"upstream_dist\": -11, \"start?\": false, \"operon\": \"b12_synth\"}, {\"gene\": \"EQU24_RS12035\", \"upstream_dist\": 5, \"start?\": false, \"operon\": \"b12_synth\"}, {\"gene\": \"EQU24_RS12030\", \"upstream_dist\": 10, \"start?\": false, \"operon\": \"b12_synth\"}, {\"gene\": \"EQU24_RS12025\", \"upstream_dist\": 9, \"start?\": false, \"operon\": \"b12_synth\"}, {\"gene\": \"EQU24_RS12020\", \"upstream_dist\": 9, \"start?\": false, \"operon\": \"b12_synth\"}, {\"gene\": \"EQU24_RS12015\", \"upstream_dist\": -4, \"start?\": false, \"operon\": \"b12_synth\"}, {\"gene\": \"EQU24_RS12010\", \"upstream_dist\": 38, \"start?\": false, \"operon\": \"b12_synth\"}, {\"gene\": \"EQU24_RS12005\", \"upstream_dist\": 2, \"start?\": false, \"operon\": \"b12_synth\"}, {\"gene\": \"EQU24_RS11550\", \"upstream_dist\": 68, \"start?\": false, \"operon\": \"heat_shock\"}, {\"gene\": \"EQU24_RS11545\", \"upstream_dist\": 70, \"start?\": false, \"operon\": \"heat_shock\"}, {\"gene\": \"EQU24_RS11540\", \"upstream_dist\": 155, \"start?\": false, \"operon\": \"heat_shock\"}, {\"gene\": \"EQU24_RS11535\", \"upstream_dist\": 5, \"start?\": false, \"operon\": \"heat_shock\"}, {\"gene\": \"EQU24_RS11520\", \"upstream_dist\": 3, \"start?\": false, \"operon\": \"w_formate_dh\"}, {\"gene\": \"EQU24_RS10245\", \"upstream_dist\": 1, \"start?\": false, \"operon\": \"FeS_cofactor\"}, {\"gene\": \"EQU24_RS10240\", \"upstream_dist\": 64, \"start?\": false, \"operon\": \"FeS_cofactor\"}, {\"gene\": \"EQU24_RS10235\", \"upstream_dist\": 14, \"start?\": false, \"operon\": \"FeS_cofactor\"}, {\"gene\": \"EQU24_RS09785\", \"upstream_dist\": 12, \"start?\": false, \"operon\": \"NADH_dh\"}, {\"gene\": \"EQU24_RS09780\", \"upstream_dist\": -1, \"start?\": false, \"operon\": \"NADH_dh\"}, {\"gene\": \"EQU24_RS09775\", \"upstream_dist\": 10, \"start?\": false, \"operon\": \"NADH_dh\"}, {\"gene\": \"EQU24_RS09770\", \"upstream_dist\": -8, \"start?\": false, \"operon\": \"NADH_dh\"}, {\"gene\": \"EQU24_RS09765\", \"upstream_dist\": -1, \"start?\": false, \"operon\": \"NADH_dh\"}, {\"gene\": \"EQU24_RS08685\", \"upstream_dist\": 1, \"start?\": false, \"operon\": \"hydrogenase\"}, {\"gene\": \"EQU24_RS08680\", \"upstream_dist\": -8, \"start?\": false, \"operon\": \"hydrogenase\"}, {\"gene\": \"EQU24_RS08675\", \"upstream_dist\": 354, \"start?\": false, \"operon\": \"hydrogenase\"}, {\"gene\": \"EQU24_RS08670\", \"upstream_dist\": -35, \"start?\": false, \"operon\": \"hydrogenase\"}, {\"gene\": \"EQU24_RS08665\", \"upstream_dist\": 264, \"start?\": false, \"operon\": \"hydrogenase\"}, {\"gene\": \"EQU24_RS08395\", \"upstream_dist\": 9, \"start?\": false, \"operon\": \"transhydrogenase\"}, {\"gene\": \"EQU24_RS06980\", \"upstream_dist\": -1, \"start?\": false, \"operon\": \"succ_dh\"}, {\"gene\": \"EQU24_RS06975\", \"upstream_dist\": 2, \"start?\": false, \"operon\": \"succ_dh\"}, {\"gene\": \"EQU24_RS06970\", \"upstream_dist\": 9, \"start?\": false, \"operon\": \"succ_dh\"}, {\"gene\": \"EQU24_RS06965\", \"upstream_dist\": 60, \"start?\": false, \"operon\": \"succ_dh\"}]}}, {\"mode\": \"vega-lite\"});\n",
       "</script>"
      ],
      "text/plain": [
       "alt.Chart(...)"
      ]
     },
     "execution_count": 12,
     "metadata": {},
     "output_type": "execute_result"
    }
   ],
   "source": [
    "# interavtive version with some jitter to simulate swarm plot \n",
    "selection = alt.selection_multi(fields=['operon'], bind='legend')\n",
    "\n",
    "stripplot = alt.Chart(\n",
    "    all_ops_df[all_ops_df['start?']==False],\n",
    ").mark_point().encode(\n",
    "    y=alt.Y(\n",
    "        'jitter:Q',\n",
    "        title=None,\n",
    "        axis=alt.Axis(values=[0], ticks=True, grid=False, labels=False),\n",
    "        scale=alt.Scale()\n",
    "    ),\n",
    "    x=alt.X(\n",
    "        'upstream_dist:Q',\n",
    "        axis=alt.Axis(title=\"Upstream Distance\")),\n",
    "    color=alt.Color('operon:N',scale=alt.Scale(scheme=\"sinebow\")),\n",
    "    size=alt.condition(selection, alt.value(100), alt.value(10)),\n",
    "    tooltip=[\"operon:N\",\"gene:N\", \"upstream_dist:Q\"],\n",
    "    opacity=alt.condition(selection, alt.value(1), alt.value(0.2)),\n",
    ").transform_calculate(\n",
    "    # Generate Gaussian jitter with a Box-Muller transform\n",
    "    jitter='sqrt(-2*log(random()))*cos(2*PI*random())'\n",
    ").properties(\n",
    "    height=300, \n",
    "    width=500,\n",
    "    title=\"Every non-starting operon gene's upstream distance\"\n",
    ").add_selection(\n",
    "        selection,\n",
    ").interactive()\n",
    "\n",
    "stripplot"
   ]
  },
  {
   "cell_type": "markdown",
   "metadata": {},
   "source": [
    "### Interactive plot!\n",
    "* Click operon in the legend to highlight points in the scatter plot\n",
    "    * < Shift > + click to select multiple points in the legend\n",
    "* Hover over points to see more detail\n",
    "* Use mouse scroll to zoom in and out"
   ]
  },
  {
   "cell_type": "markdown",
   "metadata": {},
   "source": [
    "Most of the distribution of upstream distance for internal operon genes is shorter than 50 bases but there are a number of genes that do have larger distances. In particular the, distances for genes in the pMMO operon is 93 and 108. Ultimately we chose 120 as our default value for the miniumum distance genes must be within to be considered \"possibly in an operon.\" 120 includes most genes from this hand curated set but misses a few. "
   ]
  },
  {
   "cell_type": "code",
   "execution_count": null,
   "metadata": {},
   "outputs": [],
   "source": []
  }
 ],
 "metadata": {
  "kernelspec": {
   "display_name": "Python 3",
   "language": "python",
   "name": "python3"
  },
  "language_info": {
   "codemirror_mode": {
    "name": "ipython",
    "version": 3
   },
   "file_extension": ".py",
   "mimetype": "text/x-python",
   "name": "python",
   "nbconvert_exporter": "python",
   "pygments_lexer": "ipython3",
   "version": "3.8.1"
  }
 },
 "nbformat": 4,
 "nbformat_minor": 2
}
